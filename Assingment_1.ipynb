{
 "cells": [
  {
   "cell_type": "code",
   "execution_count": 44,
   "metadata": {},
   "outputs": [
    {
     "name": "stdout",
     "output_type": "stream",
     "text": [
      "Please enter your first name :Ineuron\n",
      "Please enter your last name :Intelligence\n",
      "reverse order of name will be :\n"
     ]
    },
    {
     "data": {
      "text/plain": [
       "'ecnegilletnI noruenI'"
      ]
     },
     "execution_count": 44,
     "metadata": {},
     "output_type": "execute_result"
    }
   ],
   "source": [
    "#Task 1 Ans -3\n",
    "First_Name=input('Please enter your first name :')\n",
    "Last_name=input('Please enter your last name :')\n",
    "Complete_Name = First_Name +' '+ Last_name\n",
    "print('reverse order of name will be :')\n",
    "Complete_Name[::-1]"
   ]
  },
  {
   "cell_type": "code",
   "execution_count": 15,
   "metadata": {},
   "outputs": [
    {
     "name": "stdout",
     "output_type": "stream",
     "text": [
      "Volume of sphere will be 904.3199999999999\n"
     ]
    }
   ],
   "source": [
    "#Task 1 Ans-4\n",
    "d=12\n",
    "V=(4/3) * 3.14 * (d/2)**3 \n",
    "print('Volume of sphere will be {}'.format(V))"
   ]
  },
  {
   "cell_type": "code",
   "execution_count": 8,
   "metadata": {},
   "outputs": [],
   "source": [
    "#Task 1 Ans-2\n",
    "a=[]\n",
    "for i in range(2000,3200):\n",
    "    if i %7==0 and i%5!=0:\n",
    "        a.append(i)\n",
    "a       "
   ]
  },
  {
   "cell_type": "code",
   "execution_count": 28,
   "metadata": {},
   "outputs": [
    {
     "name": "stdout",
     "output_type": "stream",
     "text": [
      "please enter comma-separated numbers1,2,3,4,5,6\n",
      "['1,2,3,4,5,6']\n"
     ]
    },
    {
     "data": {
      "text/plain": [
       "list"
      ]
     },
     "execution_count": 28,
     "metadata": {},
     "output_type": "execute_result"
    }
   ],
   "source": [
    "#task 2 Ans-1\n",
    "a=input(\"please enter comma-separated numbers\")\n",
    "b=[a]\n",
    "print(b)\n",
    "type(b)"
   ]
  },
  {
   "cell_type": "code",
   "execution_count": 29,
   "metadata": {},
   "outputs": [
    {
     "name": "stdout",
     "output_type": "stream",
     "text": [
      "*\n",
      "**\n",
      "***\n",
      "****\n",
      "*****\n",
      "****\n",
      "***\n",
      "**\n",
      "*\n"
     ]
    }
   ],
   "source": [
    "#task 2 Ans-2\n",
    "a=['*']\n",
    "b=[1,2,3,4,5,4,3,2,1]\n",
    "for i in a:\n",
    "    for j in b:\n",
    "        print(i*j)"
   ]
  },
  {
   "cell_type": "code",
   "execution_count": 32,
   "metadata": {},
   "outputs": [
    {
     "name": "stdout",
     "output_type": "stream",
     "text": [
      "Please enter a world :Ineuron\n"
     ]
    },
    {
     "data": {
      "text/plain": [
       "'noruenI'"
      ]
     },
     "execution_count": 32,
     "metadata": {},
     "output_type": "execute_result"
    }
   ],
   "source": [
    "#task 2 Ans-3\n",
    "x=input('Please enter a world :')\n",
    "x[::-1]"
   ]
  },
  {
   "cell_type": "code",
   "execution_count": 45,
   "metadata": {},
   "outputs": [
    {
     "name": "stdout",
     "output_type": "stream",
     "text": [
      "WE, THE PEOPLE OF INDIA,\n",
      "\t having solemnly resolved to constitute India into a SOVEREIGN !,\n",
      "\t   SOCIALIST, SECULAR, DEMOCRATIC REPUBLIC \n",
      "\t    and to secure to all its citizens \n"
     ]
    }
   ],
   "source": [
    "#task 2 Ans-4\n",
    "print('WE, THE PEOPLE OF INDIA,\\n\\t having solemnly resolved to constitute India into a SOVEREIGN !,\\n\\t   SOCIALIST, SECULAR, DEMOCRATIC REPUBLIC \\n\\t    and to secure to all its citizens ')"
   ]
  },
  {
   "cell_type": "code",
   "execution_count": null,
   "metadata": {},
   "outputs": [],
   "source": []
  }
 ],
 "metadata": {
  "kernelspec": {
   "display_name": "Python 3",
   "language": "python",
   "name": "python3"
  },
  "language_info": {
   "codemirror_mode": {
    "name": "ipython",
    "version": 3
   },
   "file_extension": ".py",
   "mimetype": "text/x-python",
   "name": "python",
   "nbconvert_exporter": "python",
   "pygments_lexer": "ipython3",
   "version": "3.7.6"
  }
 },
 "nbformat": 4,
 "nbformat_minor": 4
}
